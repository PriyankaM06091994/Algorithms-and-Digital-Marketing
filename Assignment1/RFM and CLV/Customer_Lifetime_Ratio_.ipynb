{
  "nbformat": 4,
  "nbformat_minor": 0,
  "metadata": {
    "colab": {
      "name": "Customer_Lifetime_Ratio .ipynb",
      "provenance": [],
      "collapsed_sections": []
    },
    "kernelspec": {
      "name": "python3",
      "display_name": "Python 3"
    }
  },
  "cells": [
    {
      "cell_type": "code",
      "metadata": {
        "id": "5x9FNo0X5-Kl",
        "colab_type": "code",
        "colab": {}
      },
      "source": [
        "import pandas as pd\n",
        "import numpy as np"
      ],
      "execution_count": 0,
      "outputs": []
    },
    {
      "cell_type": "code",
      "metadata": {
        "id": "VfnWP0oD6M_1",
        "colab_type": "code",
        "outputId": "296690ed-7955-4240-b9f5-70a7af92febd",
        "colab": {
          "base_uri": "https://localhost:8080/",
          "height": 326
        }
      },
      "source": [
        "df = pd.read_csv(\"/content/drive/My Drive/OG datasets/Master_Table_Final.csv\")\n",
        "df.head()"
      ],
      "execution_count": 4,
      "outputs": [
        {
          "output_type": "execute_result",
          "data": {
            "text/html": [
              "<div>\n",
              "<style scoped>\n",
              "    .dataframe tbody tr th:only-of-type {\n",
              "        vertical-align: middle;\n",
              "    }\n",
              "\n",
              "    .dataframe tbody tr th {\n",
              "        vertical-align: top;\n",
              "    }\n",
              "\n",
              "    .dataframe thead th {\n",
              "        text-align: right;\n",
              "    }\n",
              "</style>\n",
              "<table border=\"1\" class=\"dataframe\">\n",
              "  <thead>\n",
              "    <tr style=\"text-align: right;\">\n",
              "      <th></th>\n",
              "      <th>aisle_id</th>\n",
              "      <th>department_id</th>\n",
              "      <th>product_id</th>\n",
              "      <th>product_name</th>\n",
              "      <th>department</th>\n",
              "      <th>aisle</th>\n",
              "      <th>order_id</th>\n",
              "      <th>user_id</th>\n",
              "      <th>eval_set</th>\n",
              "      <th>order_number</th>\n",
              "      <th>order_dow</th>\n",
              "      <th>order_hour_of_day</th>\n",
              "      <th>days_since_prior_order</th>\n",
              "      <th>add_to_cart_order</th>\n",
              "      <th>reordered</th>\n",
              "    </tr>\n",
              "  </thead>\n",
              "  <tbody>\n",
              "    <tr>\n",
              "      <th>0</th>\n",
              "      <td>27</td>\n",
              "      <td>5</td>\n",
              "      <td>18561</td>\n",
              "      <td>805</td>\n",
              "      <td>alcohol</td>\n",
              "      <td>beers coolers</td>\n",
              "      <td>940035</td>\n",
              "      <td>67973</td>\n",
              "      <td>train</td>\n",
              "      <td>19</td>\n",
              "      <td>6</td>\n",
              "      <td>11</td>\n",
              "      <td>7.0</td>\n",
              "      <td>5</td>\n",
              "      <td>1</td>\n",
              "    </tr>\n",
              "    <tr>\n",
              "      <th>1</th>\n",
              "      <td>27</td>\n",
              "      <td>5</td>\n",
              "      <td>18561</td>\n",
              "      <td>805</td>\n",
              "      <td>alcohol</td>\n",
              "      <td>beers coolers</td>\n",
              "      <td>640491</td>\n",
              "      <td>33471</td>\n",
              "      <td>train</td>\n",
              "      <td>18</td>\n",
              "      <td>0</td>\n",
              "      <td>10</td>\n",
              "      <td>30.0</td>\n",
              "      <td>1</td>\n",
              "      <td>1</td>\n",
              "    </tr>\n",
              "    <tr>\n",
              "      <th>2</th>\n",
              "      <td>27</td>\n",
              "      <td>5</td>\n",
              "      <td>18561</td>\n",
              "      <td>805</td>\n",
              "      <td>alcohol</td>\n",
              "      <td>beers coolers</td>\n",
              "      <td>238150</td>\n",
              "      <td>191231</td>\n",
              "      <td>train</td>\n",
              "      <td>6</td>\n",
              "      <td>2</td>\n",
              "      <td>11</td>\n",
              "      <td>11.0</td>\n",
              "      <td>3</td>\n",
              "      <td>1</td>\n",
              "    </tr>\n",
              "    <tr>\n",
              "      <th>3</th>\n",
              "      <td>120</td>\n",
              "      <td>16</td>\n",
              "      <td>7494</td>\n",
              "      <td>0 Fat Black Cherry Greek Yogurt y</td>\n",
              "      <td>dairy eggs</td>\n",
              "      <td>yogurt</td>\n",
              "      <td>3397097</td>\n",
              "      <td>95710</td>\n",
              "      <td>train</td>\n",
              "      <td>50</td>\n",
              "      <td>0</td>\n",
              "      <td>8</td>\n",
              "      <td>7.0</td>\n",
              "      <td>15</td>\n",
              "      <td>1</td>\n",
              "    </tr>\n",
              "    <tr>\n",
              "      <th>4</th>\n",
              "      <td>120</td>\n",
              "      <td>16</td>\n",
              "      <td>3756</td>\n",
              "      <td>0 Fat Blueberry Greek Yogurt</td>\n",
              "      <td>dairy eggs</td>\n",
              "      <td>yogurt</td>\n",
              "      <td>562445</td>\n",
              "      <td>196770</td>\n",
              "      <td>train</td>\n",
              "      <td>87</td>\n",
              "      <td>4</td>\n",
              "      <td>14</td>\n",
              "      <td>3.0</td>\n",
              "      <td>7</td>\n",
              "      <td>0</td>\n",
              "    </tr>\n",
              "  </tbody>\n",
              "</table>\n",
              "</div>"
            ],
            "text/plain": [
              "   aisle_id  department_id  ...  add_to_cart_order reordered\n",
              "0        27              5  ...                  5         1\n",
              "1        27              5  ...                  1         1\n",
              "2        27              5  ...                  3         1\n",
              "3       120             16  ...                 15         1\n",
              "4       120             16  ...                  7         0\n",
              "\n",
              "[5 rows x 15 columns]"
            ]
          },
          "metadata": {
            "tags": []
          },
          "execution_count": 4
        }
      ]
    },
    {
      "cell_type": "code",
      "metadata": {
        "id": "jg0Gm6t76NCM",
        "colab_type": "code",
        "colab": {}
      },
      "source": [
        "clv_df = df.groupby(\"user_id\")[\"order_number\"].aggregate(np.max).reset_index()"
      ],
      "execution_count": 0,
      "outputs": []
    },
    {
      "cell_type": "code",
      "metadata": {
        "id": "qV68hxeM6NGr",
        "colab_type": "code",
        "outputId": "3a9d0ac8-cd60-4ca7-bf9e-745038a6a382",
        "colab": {
          "base_uri": "https://localhost:8080/",
          "height": 255
        }
      },
      "source": [
        "print(clv_df)"
      ],
      "execution_count": 6,
      "outputs": [
        {
          "output_type": "stream",
          "text": [
            "       user_id  order_number\n",
            "0            1            11\n",
            "1            2            15\n",
            "2            5             5\n",
            "3            7            21\n",
            "4            8             4\n",
            "...        ...           ...\n",
            "90264   206199            20\n",
            "90265   206200            24\n",
            "90266   206203             6\n",
            "90267   206205             4\n",
            "90268   206209            14\n",
            "\n",
            "[90269 rows x 2 columns]\n"
          ],
          "name": "stdout"
        }
      ]
    },
    {
      "cell_type": "code",
      "metadata": {
        "id": "Exp0AUZoEQS5",
        "colab_type": "code",
        "colab": {}
      },
      "source": [
        "clv_df.rename(columns = {'order_number': 'Total Visits'}, inplace=True)"
      ],
      "execution_count": 0,
      "outputs": []
    },
    {
      "cell_type": "code",
      "metadata": {
        "id": "0jdQ9PiqEcKH",
        "colab_type": "code",
        "outputId": "870787b2-3788-48e5-9c17-5e4254692e00",
        "colab": {
          "base_uri": "https://localhost:8080/",
          "height": 419
        }
      },
      "source": [
        "clv_df"
      ],
      "execution_count": 8,
      "outputs": [
        {
          "output_type": "execute_result",
          "data": {
            "text/html": [
              "<div>\n",
              "<style scoped>\n",
              "    .dataframe tbody tr th:only-of-type {\n",
              "        vertical-align: middle;\n",
              "    }\n",
              "\n",
              "    .dataframe tbody tr th {\n",
              "        vertical-align: top;\n",
              "    }\n",
              "\n",
              "    .dataframe thead th {\n",
              "        text-align: right;\n",
              "    }\n",
              "</style>\n",
              "<table border=\"1\" class=\"dataframe\">\n",
              "  <thead>\n",
              "    <tr style=\"text-align: right;\">\n",
              "      <th></th>\n",
              "      <th>user_id</th>\n",
              "      <th>Total Visits</th>\n",
              "    </tr>\n",
              "  </thead>\n",
              "  <tbody>\n",
              "    <tr>\n",
              "      <th>0</th>\n",
              "      <td>1</td>\n",
              "      <td>11</td>\n",
              "    </tr>\n",
              "    <tr>\n",
              "      <th>1</th>\n",
              "      <td>2</td>\n",
              "      <td>15</td>\n",
              "    </tr>\n",
              "    <tr>\n",
              "      <th>2</th>\n",
              "      <td>5</td>\n",
              "      <td>5</td>\n",
              "    </tr>\n",
              "    <tr>\n",
              "      <th>3</th>\n",
              "      <td>7</td>\n",
              "      <td>21</td>\n",
              "    </tr>\n",
              "    <tr>\n",
              "      <th>4</th>\n",
              "      <td>8</td>\n",
              "      <td>4</td>\n",
              "    </tr>\n",
              "    <tr>\n",
              "      <th>...</th>\n",
              "      <td>...</td>\n",
              "      <td>...</td>\n",
              "    </tr>\n",
              "    <tr>\n",
              "      <th>90264</th>\n",
              "      <td>206199</td>\n",
              "      <td>20</td>\n",
              "    </tr>\n",
              "    <tr>\n",
              "      <th>90265</th>\n",
              "      <td>206200</td>\n",
              "      <td>24</td>\n",
              "    </tr>\n",
              "    <tr>\n",
              "      <th>90266</th>\n",
              "      <td>206203</td>\n",
              "      <td>6</td>\n",
              "    </tr>\n",
              "    <tr>\n",
              "      <th>90267</th>\n",
              "      <td>206205</td>\n",
              "      <td>4</td>\n",
              "    </tr>\n",
              "    <tr>\n",
              "      <th>90268</th>\n",
              "      <td>206209</td>\n",
              "      <td>14</td>\n",
              "    </tr>\n",
              "  </tbody>\n",
              "</table>\n",
              "<p>90269 rows × 2 columns</p>\n",
              "</div>"
            ],
            "text/plain": [
              "       user_id  Total Visits\n",
              "0            1            11\n",
              "1            2            15\n",
              "2            5             5\n",
              "3            7            21\n",
              "4            8             4\n",
              "...        ...           ...\n",
              "90264   206199            20\n",
              "90265   206200            24\n",
              "90266   206203             6\n",
              "90267   206205             4\n",
              "90268   206209            14\n",
              "\n",
              "[90269 rows x 2 columns]"
            ]
          },
          "metadata": {
            "tags": []
          },
          "execution_count": 8
        }
      ]
    },
    {
      "cell_type": "code",
      "metadata": {
        "id": "o8q41vbjEcZB",
        "colab_type": "code",
        "colab": {}
      },
      "source": [
        "import random\n",
        "clv_df['Total Price'] = np.random.randint(100,1200,size=90269)/10"
      ],
      "execution_count": 0,
      "outputs": []
    },
    {
      "cell_type": "code",
      "metadata": {
        "id": "xDR0EV7EEcXS",
        "colab_type": "code",
        "outputId": "08dd80c8-f205-4b7f-ac6c-91ff42db438b",
        "colab": {
          "base_uri": "https://localhost:8080/",
          "height": 221
        }
      },
      "source": [
        "clv_df['Total Price'].value_counts()"
      ],
      "execution_count": 10,
      "outputs": [
        {
          "output_type": "execute_result",
          "data": {
            "text/plain": [
              "113.4    111\n",
              "114.4    110\n",
              "41.3     107\n",
              "94.9     106\n",
              "49.8     106\n",
              "        ... \n",
              "23.8      59\n",
              "50.3      59\n",
              "59.9      59\n",
              "10.1      58\n",
              "42.1      58\n",
              "Name: Total Price, Length: 1100, dtype: int64"
            ]
          },
          "metadata": {
            "tags": []
          },
          "execution_count": 10
        }
      ]
    },
    {
      "cell_type": "code",
      "metadata": {
        "id": "albsv3OiEcIn",
        "colab_type": "code",
        "outputId": "444b4fa4-4a23-4699-95af-5d9d5948c3b5",
        "colab": {
          "base_uri": "https://localhost:8080/",
          "height": 204
        }
      },
      "source": [
        "clv_df.head()"
      ],
      "execution_count": 11,
      "outputs": [
        {
          "output_type": "execute_result",
          "data": {
            "text/html": [
              "<div>\n",
              "<style scoped>\n",
              "    .dataframe tbody tr th:only-of-type {\n",
              "        vertical-align: middle;\n",
              "    }\n",
              "\n",
              "    .dataframe tbody tr th {\n",
              "        vertical-align: top;\n",
              "    }\n",
              "\n",
              "    .dataframe thead th {\n",
              "        text-align: right;\n",
              "    }\n",
              "</style>\n",
              "<table border=\"1\" class=\"dataframe\">\n",
              "  <thead>\n",
              "    <tr style=\"text-align: right;\">\n",
              "      <th></th>\n",
              "      <th>user_id</th>\n",
              "      <th>Total Visits</th>\n",
              "      <th>Total Price</th>\n",
              "    </tr>\n",
              "  </thead>\n",
              "  <tbody>\n",
              "    <tr>\n",
              "      <th>0</th>\n",
              "      <td>1</td>\n",
              "      <td>11</td>\n",
              "      <td>97.0</td>\n",
              "    </tr>\n",
              "    <tr>\n",
              "      <th>1</th>\n",
              "      <td>2</td>\n",
              "      <td>15</td>\n",
              "      <td>13.9</td>\n",
              "    </tr>\n",
              "    <tr>\n",
              "      <th>2</th>\n",
              "      <td>5</td>\n",
              "      <td>5</td>\n",
              "      <td>28.5</td>\n",
              "    </tr>\n",
              "    <tr>\n",
              "      <th>3</th>\n",
              "      <td>7</td>\n",
              "      <td>21</td>\n",
              "      <td>40.6</td>\n",
              "    </tr>\n",
              "    <tr>\n",
              "      <th>4</th>\n",
              "      <td>8</td>\n",
              "      <td>4</td>\n",
              "      <td>100.9</td>\n",
              "    </tr>\n",
              "  </tbody>\n",
              "</table>\n",
              "</div>"
            ],
            "text/plain": [
              "   user_id  Total Visits  Total Price\n",
              "0        1            11         97.0\n",
              "1        2            15         13.9\n",
              "2        5             5         28.5\n",
              "3        7            21         40.6\n",
              "4        8             4        100.9"
            ]
          },
          "metadata": {
            "tags": []
          },
          "execution_count": 11
        }
      ]
    },
    {
      "cell_type": "code",
      "metadata": {
        "id": "uGMgkV9gEcHt",
        "colab_type": "code",
        "colab": {}
      },
      "source": [
        "clv_df['Total Profit'] = np.random.randint(2,9,size=90269)/10"
      ],
      "execution_count": 0,
      "outputs": []
    },
    {
      "cell_type": "code",
      "metadata": {
        "id": "FRCiZRljEcEQ",
        "colab_type": "code",
        "outputId": "3d0abbb7-e3b2-4e5f-d1e6-0635c7c2c6a6",
        "colab": {
          "base_uri": "https://localhost:8080/",
          "height": 419
        }
      },
      "source": [
        "clv_df"
      ],
      "execution_count": 13,
      "outputs": [
        {
          "output_type": "execute_result",
          "data": {
            "text/html": [
              "<div>\n",
              "<style scoped>\n",
              "    .dataframe tbody tr th:only-of-type {\n",
              "        vertical-align: middle;\n",
              "    }\n",
              "\n",
              "    .dataframe tbody tr th {\n",
              "        vertical-align: top;\n",
              "    }\n",
              "\n",
              "    .dataframe thead th {\n",
              "        text-align: right;\n",
              "    }\n",
              "</style>\n",
              "<table border=\"1\" class=\"dataframe\">\n",
              "  <thead>\n",
              "    <tr style=\"text-align: right;\">\n",
              "      <th></th>\n",
              "      <th>user_id</th>\n",
              "      <th>Total Visits</th>\n",
              "      <th>Total Price</th>\n",
              "      <th>Total Profit</th>\n",
              "    </tr>\n",
              "  </thead>\n",
              "  <tbody>\n",
              "    <tr>\n",
              "      <th>0</th>\n",
              "      <td>1</td>\n",
              "      <td>11</td>\n",
              "      <td>97.0</td>\n",
              "      <td>0.8</td>\n",
              "    </tr>\n",
              "    <tr>\n",
              "      <th>1</th>\n",
              "      <td>2</td>\n",
              "      <td>15</td>\n",
              "      <td>13.9</td>\n",
              "      <td>0.5</td>\n",
              "    </tr>\n",
              "    <tr>\n",
              "      <th>2</th>\n",
              "      <td>5</td>\n",
              "      <td>5</td>\n",
              "      <td>28.5</td>\n",
              "      <td>0.8</td>\n",
              "    </tr>\n",
              "    <tr>\n",
              "      <th>3</th>\n",
              "      <td>7</td>\n",
              "      <td>21</td>\n",
              "      <td>40.6</td>\n",
              "      <td>0.6</td>\n",
              "    </tr>\n",
              "    <tr>\n",
              "      <th>4</th>\n",
              "      <td>8</td>\n",
              "      <td>4</td>\n",
              "      <td>100.9</td>\n",
              "      <td>0.7</td>\n",
              "    </tr>\n",
              "    <tr>\n",
              "      <th>...</th>\n",
              "      <td>...</td>\n",
              "      <td>...</td>\n",
              "      <td>...</td>\n",
              "      <td>...</td>\n",
              "    </tr>\n",
              "    <tr>\n",
              "      <th>90264</th>\n",
              "      <td>206199</td>\n",
              "      <td>20</td>\n",
              "      <td>28.1</td>\n",
              "      <td>0.6</td>\n",
              "    </tr>\n",
              "    <tr>\n",
              "      <th>90265</th>\n",
              "      <td>206200</td>\n",
              "      <td>24</td>\n",
              "      <td>102.3</td>\n",
              "      <td>0.3</td>\n",
              "    </tr>\n",
              "    <tr>\n",
              "      <th>90266</th>\n",
              "      <td>206203</td>\n",
              "      <td>6</td>\n",
              "      <td>104.9</td>\n",
              "      <td>0.5</td>\n",
              "    </tr>\n",
              "    <tr>\n",
              "      <th>90267</th>\n",
              "      <td>206205</td>\n",
              "      <td>4</td>\n",
              "      <td>21.8</td>\n",
              "      <td>0.4</td>\n",
              "    </tr>\n",
              "    <tr>\n",
              "      <th>90268</th>\n",
              "      <td>206209</td>\n",
              "      <td>14</td>\n",
              "      <td>14.9</td>\n",
              "      <td>0.5</td>\n",
              "    </tr>\n",
              "  </tbody>\n",
              "</table>\n",
              "<p>90269 rows × 4 columns</p>\n",
              "</div>"
            ],
            "text/plain": [
              "       user_id  Total Visits  Total Price  Total Profit\n",
              "0            1            11         97.0           0.8\n",
              "1            2            15         13.9           0.5\n",
              "2            5             5         28.5           0.8\n",
              "3            7            21         40.6           0.6\n",
              "4            8             4        100.9           0.7\n",
              "...        ...           ...          ...           ...\n",
              "90264   206199            20         28.1           0.6\n",
              "90265   206200            24        102.3           0.3\n",
              "90266   206203             6        104.9           0.5\n",
              "90267   206205             4         21.8           0.4\n",
              "90268   206209            14         14.9           0.5\n",
              "\n",
              "[90269 rows x 4 columns]"
            ]
          },
          "metadata": {
            "tags": []
          },
          "execution_count": 13
        }
      ]
    },
    {
      "cell_type": "code",
      "metadata": {
        "id": "SZxa2_A_UjWq",
        "colab_type": "code",
        "colab": {}
      },
      "source": [
        "clv_df['Customer Lifetime value']=(clv_df['Total Price']*clv_df['Total Profit']*clv_df['Total Visits']).astype(int)"
      ],
      "execution_count": 0,
      "outputs": []
    },
    {
      "cell_type": "code",
      "metadata": {
        "id": "p5R31D8sUj5q",
        "colab_type": "code",
        "outputId": "1f98b014-051d-4c85-fbaf-d0994ff1e183",
        "colab": {
          "base_uri": "https://localhost:8080/",
          "height": 419
        }
      },
      "source": [
        "clv_df "
      ],
      "execution_count": 15,
      "outputs": [
        {
          "output_type": "execute_result",
          "data": {
            "text/html": [
              "<div>\n",
              "<style scoped>\n",
              "    .dataframe tbody tr th:only-of-type {\n",
              "        vertical-align: middle;\n",
              "    }\n",
              "\n",
              "    .dataframe tbody tr th {\n",
              "        vertical-align: top;\n",
              "    }\n",
              "\n",
              "    .dataframe thead th {\n",
              "        text-align: right;\n",
              "    }\n",
              "</style>\n",
              "<table border=\"1\" class=\"dataframe\">\n",
              "  <thead>\n",
              "    <tr style=\"text-align: right;\">\n",
              "      <th></th>\n",
              "      <th>user_id</th>\n",
              "      <th>Total Visits</th>\n",
              "      <th>Total Price</th>\n",
              "      <th>Total Profit</th>\n",
              "      <th>Customer Lifetime value</th>\n",
              "    </tr>\n",
              "  </thead>\n",
              "  <tbody>\n",
              "    <tr>\n",
              "      <th>0</th>\n",
              "      <td>1</td>\n",
              "      <td>11</td>\n",
              "      <td>97.0</td>\n",
              "      <td>0.8</td>\n",
              "      <td>853</td>\n",
              "    </tr>\n",
              "    <tr>\n",
              "      <th>1</th>\n",
              "      <td>2</td>\n",
              "      <td>15</td>\n",
              "      <td>13.9</td>\n",
              "      <td>0.5</td>\n",
              "      <td>104</td>\n",
              "    </tr>\n",
              "    <tr>\n",
              "      <th>2</th>\n",
              "      <td>5</td>\n",
              "      <td>5</td>\n",
              "      <td>28.5</td>\n",
              "      <td>0.8</td>\n",
              "      <td>114</td>\n",
              "    </tr>\n",
              "    <tr>\n",
              "      <th>3</th>\n",
              "      <td>7</td>\n",
              "      <td>21</td>\n",
              "      <td>40.6</td>\n",
              "      <td>0.6</td>\n",
              "      <td>511</td>\n",
              "    </tr>\n",
              "    <tr>\n",
              "      <th>4</th>\n",
              "      <td>8</td>\n",
              "      <td>4</td>\n",
              "      <td>100.9</td>\n",
              "      <td>0.7</td>\n",
              "      <td>282</td>\n",
              "    </tr>\n",
              "    <tr>\n",
              "      <th>...</th>\n",
              "      <td>...</td>\n",
              "      <td>...</td>\n",
              "      <td>...</td>\n",
              "      <td>...</td>\n",
              "      <td>...</td>\n",
              "    </tr>\n",
              "    <tr>\n",
              "      <th>90264</th>\n",
              "      <td>206199</td>\n",
              "      <td>20</td>\n",
              "      <td>28.1</td>\n",
              "      <td>0.6</td>\n",
              "      <td>337</td>\n",
              "    </tr>\n",
              "    <tr>\n",
              "      <th>90265</th>\n",
              "      <td>206200</td>\n",
              "      <td>24</td>\n",
              "      <td>102.3</td>\n",
              "      <td>0.3</td>\n",
              "      <td>736</td>\n",
              "    </tr>\n",
              "    <tr>\n",
              "      <th>90266</th>\n",
              "      <td>206203</td>\n",
              "      <td>6</td>\n",
              "      <td>104.9</td>\n",
              "      <td>0.5</td>\n",
              "      <td>314</td>\n",
              "    </tr>\n",
              "    <tr>\n",
              "      <th>90267</th>\n",
              "      <td>206205</td>\n",
              "      <td>4</td>\n",
              "      <td>21.8</td>\n",
              "      <td>0.4</td>\n",
              "      <td>34</td>\n",
              "    </tr>\n",
              "    <tr>\n",
              "      <th>90268</th>\n",
              "      <td>206209</td>\n",
              "      <td>14</td>\n",
              "      <td>14.9</td>\n",
              "      <td>0.5</td>\n",
              "      <td>104</td>\n",
              "    </tr>\n",
              "  </tbody>\n",
              "</table>\n",
              "<p>90269 rows × 5 columns</p>\n",
              "</div>"
            ],
            "text/plain": [
              "       user_id  Total Visits  ...  Total Profit  Customer Lifetime value\n",
              "0            1            11  ...           0.8                      853\n",
              "1            2            15  ...           0.5                      104\n",
              "2            5             5  ...           0.8                      114\n",
              "3            7            21  ...           0.6                      511\n",
              "4            8             4  ...           0.7                      282\n",
              "...        ...           ...  ...           ...                      ...\n",
              "90264   206199            20  ...           0.6                      337\n",
              "90265   206200            24  ...           0.3                      736\n",
              "90266   206203             6  ...           0.5                      314\n",
              "90267   206205             4  ...           0.4                       34\n",
              "90268   206209            14  ...           0.5                      104\n",
              "\n",
              "[90269 rows x 5 columns]"
            ]
          },
          "metadata": {
            "tags": []
          },
          "execution_count": 15
        }
      ]
    },
    {
      "cell_type": "code",
      "metadata": {
        "id": "OC9GrOHMUkAF",
        "colab_type": "code",
        "colab": {}
      },
      "source": [
        "import matplotlib.pyplot as plt"
      ],
      "execution_count": 0,
      "outputs": []
    },
    {
      "cell_type": "code",
      "metadata": {
        "id": "yWr8mVn8Uj-f",
        "colab_type": "code",
        "outputId": "eb3e3104-5de0-4a5f-85fa-3e2eeb8831f6",
        "colab": {
          "base_uri": "https://localhost:8080/",
          "height": 286
        }
      },
      "source": [
        "clv_df['Customer Lifetime value'].plot(kind='hist')"
      ],
      "execution_count": 19,
      "outputs": [
        {
          "output_type": "execute_result",
          "data": {
            "text/plain": [
              "<matplotlib.axes._subplots.AxesSubplot at 0x7f706508cb38>"
            ]
          },
          "metadata": {
            "tags": []
          },
          "execution_count": 19
        },
        {
          "output_type": "display_data",
          "data": {
            "image/png": "[encoded data removed]",
            "text/plain": [
              "<Figure size 432x288 with 1 Axes>"
            ]
          },
          "metadata": {
            "tags": [],
            "needs_background": "light"
          }
        }
      ]
    },
    {
      "cell_type": "code",
      "metadata": {
        "id": "3i3zzi3PWGt9",
        "colab_type": "code",
        "colab": {}
      },
      "source": [
        "Membership = [clv_df['Customer Lifetime value'].between(0, 500), \n",
        "            clv_df['Customer Lifetime value'].between(500, 1500), \n",
        "            clv_df['Customer Lifetime value'].between(1500, 3000),\n",
        "            clv_df['Customer Lifetime value'].between(3000, 10000)]\n",
        "values = ['Regular', 'Silver', 'Gold', 'Platinum']\n",
        "\n",
        "clv_df['CLV_Category'] = np.select(Membership, values, 'Platinum' )"
      ],
      "execution_count": 0,
      "outputs": []
    },
    {
      "cell_type": "code",
      "metadata": {
        "id": "WsL7UappWGnD",
        "colab_type": "code",
        "outputId": "3904d6d0-5d8f-4008-e072-1c881f53e97e",
        "colab": {
          "base_uri": "https://localhost:8080/",
          "height": 221
        }
      },
      "source": [
        "Count['Customer Lifetime value'].value_counts()"
      ],
      "execution_count": 0,
      "outputs": [
        {
          "output_type": "execute_result",
          "data": {
            "text/plain": [
              "168     227\n",
              "120     227\n",
              "87      226\n",
              "95      225\n",
              "90      223\n",
              "       ... \n",
              "6822      1\n",
              "4711      1\n",
              "4455      1\n",
              "4391      1\n",
              "3678      1\n",
              "Name: Customer Lifetime value, Length: 4160, dtype: int64"
            ]
          },
          "metadata": {
            "tags": []
          },
          "execution_count": 80
        }
      ]
    },
    {
      "cell_type": "code",
      "metadata": {
        "id": "Rtug57u0XY3d",
        "colab_type": "code",
        "outputId": "a989f9c2-f766-4091-c015-f8cdf86fae33",
        "colab": {
          "base_uri": "https://localhost:8080/",
          "height": 419
        }
      },
      "source": [
        "clv_df.head(100)"
      ],
      "execution_count": 22,
      "outputs": [
        {
          "output_type": "execute_result",
          "data": {
            "text/html": [
              "<div>\n",
              "<style scoped>\n",
              "    .dataframe tbody tr th:only-of-type {\n",
              "        vertical-align: middle;\n",
              "    }\n",
              "\n",
              "    .dataframe tbody tr th {\n",
              "        vertical-align: top;\n",
              "    }\n",
              "\n",
              "    .dataframe thead th {\n",
              "        text-align: right;\n",
              "    }\n",
              "</style>\n",
              "<table border=\"1\" class=\"dataframe\">\n",
              "  <thead>\n",
              "    <tr style=\"text-align: right;\">\n",
              "      <th></th>\n",
              "      <th>user_id</th>\n",
              "      <th>Total Visits</th>\n",
              "      <th>Total Price</th>\n",
              "      <th>Total Profit</th>\n",
              "      <th>Customer Lifetime value</th>\n",
              "      <th>CLV_Category</th>\n",
              "    </tr>\n",
              "  </thead>\n",
              "  <tbody>\n",
              "    <tr>\n",
              "      <th>0</th>\n",
              "      <td>1</td>\n",
              "      <td>11</td>\n",
              "      <td>97.0</td>\n",
              "      <td>0.8</td>\n",
              "      <td>853</td>\n",
              "      <td>Silver</td>\n",
              "    </tr>\n",
              "    <tr>\n",
              "      <th>1</th>\n",
              "      <td>2</td>\n",
              "      <td>15</td>\n",
              "      <td>13.9</td>\n",
              "      <td>0.5</td>\n",
              "      <td>104</td>\n",
              "      <td>Regular</td>\n",
              "    </tr>\n",
              "    <tr>\n",
              "      <th>2</th>\n",
              "      <td>5</td>\n",
              "      <td>5</td>\n",
              "      <td>28.5</td>\n",
              "      <td>0.8</td>\n",
              "      <td>114</td>\n",
              "      <td>Regular</td>\n",
              "    </tr>\n",
              "    <tr>\n",
              "      <th>3</th>\n",
              "      <td>7</td>\n",
              "      <td>21</td>\n",
              "      <td>40.6</td>\n",
              "      <td>0.6</td>\n",
              "      <td>511</td>\n",
              "      <td>Silver</td>\n",
              "    </tr>\n",
              "    <tr>\n",
              "      <th>4</th>\n",
              "      <td>8</td>\n",
              "      <td>4</td>\n",
              "      <td>100.9</td>\n",
              "      <td>0.7</td>\n",
              "      <td>282</td>\n",
              "      <td>Regular</td>\n",
              "    </tr>\n",
              "    <tr>\n",
              "      <th>...</th>\n",
              "      <td>...</td>\n",
              "      <td>...</td>\n",
              "      <td>...</td>\n",
              "      <td>...</td>\n",
              "      <td>...</td>\n",
              "      <td>...</td>\n",
              "    </tr>\n",
              "    <tr>\n",
              "      <th>95</th>\n",
              "      <td>215</td>\n",
              "      <td>6</td>\n",
              "      <td>22.2</td>\n",
              "      <td>0.7</td>\n",
              "      <td>93</td>\n",
              "      <td>Regular</td>\n",
              "    </tr>\n",
              "    <tr>\n",
              "      <th>96</th>\n",
              "      <td>217</td>\n",
              "      <td>12</td>\n",
              "      <td>53.3</td>\n",
              "      <td>0.8</td>\n",
              "      <td>511</td>\n",
              "      <td>Silver</td>\n",
              "    </tr>\n",
              "    <tr>\n",
              "      <th>97</th>\n",
              "      <td>219</td>\n",
              "      <td>34</td>\n",
              "      <td>23.0</td>\n",
              "      <td>0.8</td>\n",
              "      <td>625</td>\n",
              "      <td>Silver</td>\n",
              "    </tr>\n",
              "    <tr>\n",
              "      <th>98</th>\n",
              "      <td>222</td>\n",
              "      <td>71</td>\n",
              "      <td>116.9</td>\n",
              "      <td>0.7</td>\n",
              "      <td>5809</td>\n",
              "      <td>Platinum</td>\n",
              "    </tr>\n",
              "    <tr>\n",
              "      <th>99</th>\n",
              "      <td>223</td>\n",
              "      <td>50</td>\n",
              "      <td>24.4</td>\n",
              "      <td>0.8</td>\n",
              "      <td>976</td>\n",
              "      <td>Silver</td>\n",
              "    </tr>\n",
              "  </tbody>\n",
              "</table>\n",
              "<p>100 rows × 6 columns</p>\n",
              "</div>"
            ],
            "text/plain": [
              "    user_id  Total Visits  ...  Customer Lifetime value  CLV_Category\n",
              "0         1            11  ...                      853        Silver\n",
              "1         2            15  ...                      104       Regular\n",
              "2         5             5  ...                      114       Regular\n",
              "3         7            21  ...                      511        Silver\n",
              "4         8             4  ...                      282       Regular\n",
              "..      ...           ...  ...                      ...           ...\n",
              "95      215             6  ...                       93       Regular\n",
              "96      217            12  ...                      511        Silver\n",
              "97      219            34  ...                      625        Silver\n",
              "98      222            71  ...                     5809      Platinum\n",
              "99      223            50  ...                      976        Silver\n",
              "\n",
              "[100 rows x 6 columns]"
            ]
          },
          "metadata": {
            "tags": []
          },
          "execution_count": 22
        }
      ]
    },
    {
      "cell_type": "code",
      "metadata": {
        "id": "Q5YYlCVFZSs_",
        "colab_type": "code",
        "outputId": "8e566449-16be-449f-cf66-4bee24ea4dc1",
        "colab": {
          "base_uri": "https://localhost:8080/",
          "height": 71
        }
      },
      "source": [
        "import numpy as np \n",
        "import pandas as pd\n",
        "import matplotlib.pyplot as plt\n",
        "import seaborn as sns\n",
        "color = sns.color_palette()"
      ],
      "execution_count": 25,
      "outputs": [
        {
          "output_type": "stream",
          "text": [
            "/usr/local/lib/python3.6/dist-packages/statsmodels/tools/_testing.py:19: FutureWarning: pandas.util.testing is deprecated. Use the functions in the public API at pandas.testing instead.\n",
            "  import pandas.util.testing as tm\n"
          ],
          "name": "stderr"
        }
      ]
    },
    {
      "cell_type": "code",
      "metadata": {
        "id": "QC6WoNX_pv76",
        "colab_type": "code",
        "outputId": "8ffa3a07-08f3-478e-e305-f45553c02b81",
        "colab": {
          "base_uri": "https://localhost:8080/",
          "height": 334
        }
      },
      "source": [
        "plt.figure(figsize=(8,4))\n",
        "sns.countplot(x=\"CLV_Category\", data=clv_df, color=color[0])\n",
        "plt.ylabel('Count', fontsize=12)\n",
        "plt.xlabel('Categories', fontsize=12)\n",
        "plt.xticks(rotation='vertical')\n",
        "plt.title(\"Users In each Category\", fontsize=15)\n",
        "plt.show()"
      ],
      "execution_count": 28,
      "outputs": [
        {
          "output_type": "display_data",
          "data": {
            "image/png": "[encoded data removed]",
            "text/plain": [
              "<Figure size 576x288 with 1 Axes>"
            ]
          },
          "metadata": {
            "tags": [],
            "needs_background": "light"
          }
        }
      ]
    },
    {
      "cell_type": "code",
      "metadata": {
        "id": "niq7F8ket4sf",
        "colab_type": "code",
        "outputId": "5608a8b3-b051-400a-877d-c6a9800b8122",
        "colab": {
          "base_uri": "https://localhost:8080/",
          "height": 102
        }
      },
      "source": [
        "clv_df['CLV_Category'].value_counts()\n"
      ],
      "execution_count": 29,
      "outputs": [
        {
          "output_type": "execute_result",
          "data": {
            "text/plain": [
              "Regular     61534\n",
              "Silver      21561\n",
              "Gold         5460\n",
              "Platinum     1714\n",
              "Name: CLV_Category, dtype: int64"
            ]
          },
          "metadata": {
            "tags": []
          },
          "execution_count": 29
        }
      ]
    },
    {
      "cell_type": "code",
      "metadata": {
        "id": "qLekYMONt5Q9",
        "colab_type": "code",
        "outputId": "d2ae54e9-15f9-471d-d6e1-45e07cc10438",
        "colab": {
          "base_uri": "https://localhost:8080/",
          "height": 419
        }
      },
      "source": [
        "clv_df.head(100)"
      ],
      "execution_count": 30,
      "outputs": [
        {
          "output_type": "execute_result",
          "data": {
            "text/html": [
              "<div>\n",
              "<style scoped>\n",
              "    .dataframe tbody tr th:only-of-type {\n",
              "        vertical-align: middle;\n",
              "    }\n",
              "\n",
              "    .dataframe tbody tr th {\n",
              "        vertical-align: top;\n",
              "    }\n",
              "\n",
              "    .dataframe thead th {\n",
              "        text-align: right;\n",
              "    }\n",
              "</style>\n",
              "<table border=\"1\" class=\"dataframe\">\n",
              "  <thead>\n",
              "    <tr style=\"text-align: right;\">\n",
              "      <th></th>\n",
              "      <th>user_id</th>\n",
              "      <th>Total Visits</th>\n",
              "      <th>Total Price</th>\n",
              "      <th>Total Profit</th>\n",
              "      <th>Customer Lifetime value</th>\n",
              "      <th>CLV_Category</th>\n",
              "    </tr>\n",
              "  </thead>\n",
              "  <tbody>\n",
              "    <tr>\n",
              "      <th>0</th>\n",
              "      <td>1</td>\n",
              "      <td>11</td>\n",
              "      <td>97.0</td>\n",
              "      <td>0.8</td>\n",
              "      <td>853</td>\n",
              "      <td>Silver</td>\n",
              "    </tr>\n",
              "    <tr>\n",
              "      <th>1</th>\n",
              "      <td>2</td>\n",
              "      <td>15</td>\n",
              "      <td>13.9</td>\n",
              "      <td>0.5</td>\n",
              "      <td>104</td>\n",
              "      <td>Regular</td>\n",
              "    </tr>\n",
              "    <tr>\n",
              "      <th>2</th>\n",
              "      <td>5</td>\n",
              "      <td>5</td>\n",
              "      <td>28.5</td>\n",
              "      <td>0.8</td>\n",
              "      <td>114</td>\n",
              "      <td>Regular</td>\n",
              "    </tr>\n",
              "    <tr>\n",
              "      <th>3</th>\n",
              "      <td>7</td>\n",
              "      <td>21</td>\n",
              "      <td>40.6</td>\n",
              "      <td>0.6</td>\n",
              "      <td>511</td>\n",
              "      <td>Silver</td>\n",
              "    </tr>\n",
              "    <tr>\n",
              "      <th>4</th>\n",
              "      <td>8</td>\n",
              "      <td>4</td>\n",
              "      <td>100.9</td>\n",
              "      <td>0.7</td>\n",
              "      <td>282</td>\n",
              "      <td>Regular</td>\n",
              "    </tr>\n",
              "    <tr>\n",
              "      <th>...</th>\n",
              "      <td>...</td>\n",
              "      <td>...</td>\n",
              "      <td>...</td>\n",
              "      <td>...</td>\n",
              "      <td>...</td>\n",
              "      <td>...</td>\n",
              "    </tr>\n",
              "    <tr>\n",
              "      <th>95</th>\n",
              "      <td>215</td>\n",
              "      <td>6</td>\n",
              "      <td>22.2</td>\n",
              "      <td>0.7</td>\n",
              "      <td>93</td>\n",
              "      <td>Regular</td>\n",
              "    </tr>\n",
              "    <tr>\n",
              "      <th>96</th>\n",
              "      <td>217</td>\n",
              "      <td>12</td>\n",
              "      <td>53.3</td>\n",
              "      <td>0.8</td>\n",
              "      <td>511</td>\n",
              "      <td>Silver</td>\n",
              "    </tr>\n",
              "    <tr>\n",
              "      <th>97</th>\n",
              "      <td>219</td>\n",
              "      <td>34</td>\n",
              "      <td>23.0</td>\n",
              "      <td>0.8</td>\n",
              "      <td>625</td>\n",
              "      <td>Silver</td>\n",
              "    </tr>\n",
              "    <tr>\n",
              "      <th>98</th>\n",
              "      <td>222</td>\n",
              "      <td>71</td>\n",
              "      <td>116.9</td>\n",
              "      <td>0.7</td>\n",
              "      <td>5809</td>\n",
              "      <td>Platinum</td>\n",
              "    </tr>\n",
              "    <tr>\n",
              "      <th>99</th>\n",
              "      <td>223</td>\n",
              "      <td>50</td>\n",
              "      <td>24.4</td>\n",
              "      <td>0.8</td>\n",
              "      <td>976</td>\n",
              "      <td>Silver</td>\n",
              "    </tr>\n",
              "  </tbody>\n",
              "</table>\n",
              "<p>100 rows × 6 columns</p>\n",
              "</div>"
            ],
            "text/plain": [
              "    user_id  Total Visits  ...  Customer Lifetime value  CLV_Category\n",
              "0         1            11  ...                      853        Silver\n",
              "1         2            15  ...                      104       Regular\n",
              "2         5             5  ...                      114       Regular\n",
              "3         7            21  ...                      511        Silver\n",
              "4         8             4  ...                      282       Regular\n",
              "..      ...           ...  ...                      ...           ...\n",
              "95      215             6  ...                       93       Regular\n",
              "96      217            12  ...                      511        Silver\n",
              "97      219            34  ...                      625        Silver\n",
              "98      222            71  ...                     5809      Platinum\n",
              "99      223            50  ...                      976        Silver\n",
              "\n",
              "[100 rows x 6 columns]"
            ]
          },
          "metadata": {
            "tags": []
          },
          "execution_count": 30
        }
      ]
    },
    {
      "cell_type": "code",
      "metadata": {
        "id": "2AVh-sPDuEh-",
        "colab_type": "code",
        "colab": {}
      },
      "source": [
        "clv_df.to_csv(\"Customer_Lifetime_Ratio\")"
      ],
      "execution_count": 0,
      "outputs": []
    }
  ]
}